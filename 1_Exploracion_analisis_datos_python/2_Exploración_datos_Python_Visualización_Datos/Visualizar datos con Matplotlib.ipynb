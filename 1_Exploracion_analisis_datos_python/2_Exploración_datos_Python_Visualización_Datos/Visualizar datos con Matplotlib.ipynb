{
 "cells": [
  {
   "cell_type": "markdown",
   "id": "62067b36",
   "metadata": {},
   "source": [
    "# Exploración de datos con Python: visualización de datos"
   ]
  },
  {
   "cell_type": "code",
   "execution_count": 1,
   "id": "0f5ba36f",
   "metadata": {},
   "outputs": [
    {
     "data": {
      "text/html": [
       "<div>\n",
       "<style scoped>\n",
       "    .dataframe tbody tr th:only-of-type {\n",
       "        vertical-align: middle;\n",
       "    }\n",
       "\n",
       "    .dataframe tbody tr th {\n",
       "        vertical-align: top;\n",
       "    }\n",
       "\n",
       "    .dataframe thead th {\n",
       "        text-align: right;\n",
       "    }\n",
       "</style>\n",
       "<table border=\"1\" class=\"dataframe\">\n",
       "  <thead>\n",
       "    <tr style=\"text-align: right;\">\n",
       "      <th></th>\n",
       "      <th>Name</th>\n",
       "      <th>StudyHours</th>\n",
       "      <th>Grade</th>\n",
       "      <th>Pass</th>\n",
       "    </tr>\n",
       "  </thead>\n",
       "  <tbody>\n",
       "    <tr>\n",
       "      <th>0</th>\n",
       "      <td>Dan</td>\n",
       "      <td>10.00</td>\n",
       "      <td>50.0</td>\n",
       "      <td>False</td>\n",
       "    </tr>\n",
       "    <tr>\n",
       "      <th>1</th>\n",
       "      <td>Joann</td>\n",
       "      <td>11.50</td>\n",
       "      <td>50.0</td>\n",
       "      <td>False</td>\n",
       "    </tr>\n",
       "    <tr>\n",
       "      <th>2</th>\n",
       "      <td>Pedro</td>\n",
       "      <td>9.00</td>\n",
       "      <td>47.0</td>\n",
       "      <td>False</td>\n",
       "    </tr>\n",
       "    <tr>\n",
       "      <th>3</th>\n",
       "      <td>Rosie</td>\n",
       "      <td>16.00</td>\n",
       "      <td>97.0</td>\n",
       "      <td>True</td>\n",
       "    </tr>\n",
       "    <tr>\n",
       "      <th>4</th>\n",
       "      <td>Ethan</td>\n",
       "      <td>9.25</td>\n",
       "      <td>49.0</td>\n",
       "      <td>False</td>\n",
       "    </tr>\n",
       "    <tr>\n",
       "      <th>5</th>\n",
       "      <td>Vicky</td>\n",
       "      <td>1.00</td>\n",
       "      <td>3.0</td>\n",
       "      <td>False</td>\n",
       "    </tr>\n",
       "    <tr>\n",
       "      <th>6</th>\n",
       "      <td>Frederic</td>\n",
       "      <td>11.50</td>\n",
       "      <td>53.0</td>\n",
       "      <td>False</td>\n",
       "    </tr>\n",
       "    <tr>\n",
       "      <th>7</th>\n",
       "      <td>Jimmie</td>\n",
       "      <td>9.00</td>\n",
       "      <td>42.0</td>\n",
       "      <td>False</td>\n",
       "    </tr>\n",
       "    <tr>\n",
       "      <th>8</th>\n",
       "      <td>Rhonda</td>\n",
       "      <td>8.50</td>\n",
       "      <td>26.0</td>\n",
       "      <td>False</td>\n",
       "    </tr>\n",
       "    <tr>\n",
       "      <th>9</th>\n",
       "      <td>Giovanni</td>\n",
       "      <td>14.50</td>\n",
       "      <td>74.0</td>\n",
       "      <td>True</td>\n",
       "    </tr>\n",
       "    <tr>\n",
       "      <th>10</th>\n",
       "      <td>Francesca</td>\n",
       "      <td>15.50</td>\n",
       "      <td>82.0</td>\n",
       "      <td>True</td>\n",
       "    </tr>\n",
       "    <tr>\n",
       "      <th>11</th>\n",
       "      <td>Rajab</td>\n",
       "      <td>13.75</td>\n",
       "      <td>62.0</td>\n",
       "      <td>True</td>\n",
       "    </tr>\n",
       "    <tr>\n",
       "      <th>12</th>\n",
       "      <td>Naiyana</td>\n",
       "      <td>9.00</td>\n",
       "      <td>37.0</td>\n",
       "      <td>False</td>\n",
       "    </tr>\n",
       "    <tr>\n",
       "      <th>13</th>\n",
       "      <td>Kian</td>\n",
       "      <td>8.00</td>\n",
       "      <td>15.0</td>\n",
       "      <td>False</td>\n",
       "    </tr>\n",
       "    <tr>\n",
       "      <th>14</th>\n",
       "      <td>Jenny</td>\n",
       "      <td>15.50</td>\n",
       "      <td>70.0</td>\n",
       "      <td>True</td>\n",
       "    </tr>\n",
       "    <tr>\n",
       "      <th>15</th>\n",
       "      <td>Jakeem</td>\n",
       "      <td>8.00</td>\n",
       "      <td>27.0</td>\n",
       "      <td>False</td>\n",
       "    </tr>\n",
       "    <tr>\n",
       "      <th>16</th>\n",
       "      <td>Helena</td>\n",
       "      <td>9.00</td>\n",
       "      <td>36.0</td>\n",
       "      <td>False</td>\n",
       "    </tr>\n",
       "    <tr>\n",
       "      <th>17</th>\n",
       "      <td>Ismat</td>\n",
       "      <td>6.00</td>\n",
       "      <td>35.0</td>\n",
       "      <td>False</td>\n",
       "    </tr>\n",
       "    <tr>\n",
       "      <th>18</th>\n",
       "      <td>Anila</td>\n",
       "      <td>10.00</td>\n",
       "      <td>48.0</td>\n",
       "      <td>False</td>\n",
       "    </tr>\n",
       "    <tr>\n",
       "      <th>19</th>\n",
       "      <td>Skye</td>\n",
       "      <td>12.00</td>\n",
       "      <td>52.0</td>\n",
       "      <td>False</td>\n",
       "    </tr>\n",
       "    <tr>\n",
       "      <th>20</th>\n",
       "      <td>Daniel</td>\n",
       "      <td>12.50</td>\n",
       "      <td>63.0</td>\n",
       "      <td>True</td>\n",
       "    </tr>\n",
       "    <tr>\n",
       "      <th>21</th>\n",
       "      <td>Aisha</td>\n",
       "      <td>12.00</td>\n",
       "      <td>64.0</td>\n",
       "      <td>True</td>\n",
       "    </tr>\n",
       "  </tbody>\n",
       "</table>\n",
       "</div>"
      ],
      "text/plain": [
       "         Name  StudyHours  Grade   Pass\n",
       "0         Dan       10.00   50.0  False\n",
       "1       Joann       11.50   50.0  False\n",
       "2       Pedro        9.00   47.0  False\n",
       "3       Rosie       16.00   97.0   True\n",
       "4       Ethan        9.25   49.0  False\n",
       "5       Vicky        1.00    3.0  False\n",
       "6    Frederic       11.50   53.0  False\n",
       "7      Jimmie        9.00   42.0  False\n",
       "8      Rhonda        8.50   26.0  False\n",
       "9    Giovanni       14.50   74.0   True\n",
       "10  Francesca       15.50   82.0   True\n",
       "11      Rajab       13.75   62.0   True\n",
       "12    Naiyana        9.00   37.0  False\n",
       "13       Kian        8.00   15.0  False\n",
       "14      Jenny       15.50   70.0   True\n",
       "15     Jakeem        8.00   27.0  False\n",
       "16     Helena        9.00   36.0  False\n",
       "17      Ismat        6.00   35.0  False\n",
       "18      Anila       10.00   48.0  False\n",
       "19       Skye       12.00   52.0  False\n",
       "20     Daniel       12.50   63.0   True\n",
       "21      Aisha       12.00   64.0   True"
      ]
     },
     "execution_count": 1,
     "metadata": {},
     "output_type": "execute_result"
    }
   ],
   "source": [
    "import pandas as pd\n",
    "\n",
    "# Cargar datos desde un archivo de texto \n",
    "url = \"https://raw.githubusercontent.com/MicrosoftDocs/mslearn-introduction-to-machine-learning/main/Data/ml-basics/grades.csv\"\n",
    "df_students = pd.read_csv(url,delimiter=',',header='infer')\n",
    "\n",
    "# Eliminar cualquier fila con datos faltantes\n",
    "df_students = df_students.dropna(axis=0, how='any')\n",
    "\n",
    "# Calcule quién aprobó, asumiento de '60' es la calificación necesaria para aprobar\n",
    "passes = pd.Series(df_students['Grade']>=60)\n",
    "\n",
    "# Guardar quién pasó el marco de datos de Pandas\n",
    "df_students = pd.concat([df_students,passes.rename(\"Pass\")],axis=1)\n",
    "\n",
    "# Imprimir el resultado en el notebook\n",
    "df_students"
   ]
  },
  {
   "cell_type": "markdown",
   "id": "dd361b6b",
   "metadata": {},
   "source": [
    "#### Visualización de datos con Matplotlib\n",
    "\n",
    "Los marcos de datos brindan una excelente manera de explorar y analizar datos tabulares, pero a veces una imagen vale más de mil filas y columnas. La biblioteca **Matplotlib** proporciona la base para trazar visualizaciones de datos que pueden mejorar en gran medida su capacidad de analizar los datos. \n",
    "\n",
    "Comencemos con un gráfico de barras simple que muestra la calificación de cada estudiante."
   ]
  },
  {
   "cell_type": "code",
   "execution_count": 2,
   "id": "be8675d7",
   "metadata": {},
   "outputs": [
    {
     "data": {
      "image/png": "[encoded data removed]",
      "text/plain": [
       "<Figure size 432x288 with 1 Axes>"
      ]
     },
     "metadata": {
      "needs_background": "light"
     },
     "output_type": "display_data"
    }
   ],
   "source": [
    "# Asegúrese de que los gráficos se muestren en línea en el cuaderno k\n",
    "\n",
    "%matplotlib inline\n",
    "\n",
    "from matplotlib import pyplot as plt\n",
    "\n",
    "# Crear u\n",
    "plt.bar(x=df_students.Name, height=df_students.Grade)\n",
    "\n",
    "# Desplegar\n",
    "plt.show()"
   ]
  },
  {
   "cell_type": "markdown",
   "id": "a947d7af",
   "metadata": {},
   "source": [
    "Bueno, eso funcionó; pero al gráfico le vendrían bien algunos mejoras para que puede más claro lo que estamos viendo. \n",
    "\n",
    "Tenga en cuenta que utilizó la clase **pyplot** de Matplotlib para trazar el gráfico. Esta clase proporciona un montón de formas de mejorar los elementos visuales de la trama. Por ejemplo, el siguiente código:\n",
    "\n",
    "    * Especificar elcolor de gráfico de barras. \n",
    "    * Agrega un título al gráfico (para que sepamos o que representa)\n",
    "    * Agrega etiquetas a X e Y (para que sepamos qué eje muestra qué datos)\n",
    "    * Gira los marcadores X (para que podamos leerlos)\n",
    "    "
   ]
  },
  {
   "cell_type": "code",
   "execution_count": 3,
   "id": "9d8f7a06",
   "metadata": {},
   "outputs": [
    {
     "data": {
      "image/png": "[encoded data removed]",
      "text/plain": [
       "<Figure size 432x288 with 1 Axes>"
      ]
     },
     "metadata": {
      "needs_background": "light"
     },
     "output_type": "display_data"
    }
   ],
   "source": [
    "# Crear un gráfico de barras de nombre vs grado\n",
    "plt.bar (x=df_students.Name, height=df_students.Grade, color='orange')\n",
    "\n",
    "# Personaliza el gráfico\n",
    "plt.title('Students Grades')\n",
    "plt.xlabel('Student')\n",
    "plt.ylabel('Grade')\n",
    "plt.grid(color='#95a5a6', linestyle='--', linewidth=2, axis='y', alpha=0.7)\n",
    "plt.xticks(rotation=90)\n",
    "\n",
    "# Desplejar la visualización\n",
    "plt.show()"
   ]
  },
  {
   "cell_type": "markdown",
   "id": "c1019330",
   "metadata": {},
   "source": [
    "Una trama está técnicamente contenida con una **figura**. En los ejemplos anteriores, la figua se creó implícitamente para usted; pero puedes crearlo explícitamente. Por ejemplo, el siguiente código crea una figura con un tamaño específico."
   ]
  },
  {
   "cell_type": "code",
   "execution_count": 9,
   "id": "28ad49e7",
   "metadata": {},
   "outputs": [
    {
     "data": {
      "image/png": "[encoded data removed]",
      "text/plain": [
       "<Figure size 1080x360 with 1 Axes>"
      ]
     },
     "metadata": {
      "needs_background": "light"
     },
     "output_type": "display_data"
    }
   ],
   "source": [
    "# Crear una figura\n",
    "fig = plt.figure(figsize=(15,5))\n",
    "\n",
    "# Crear un gráfico de barras de nombre vs grado\n",
    "plt.bar(x=df_students.Name, height=df_students.Grade, color='orange')\n",
    "\n",
    "#Personaliza el gráfico\n",
    "plt.title('Student Grades')\n",
    "plt.xlabel('Student')\n",
    "plt.ylabel('Grade')\n",
    "plt.grid(color='#95a5a6', linestyle='--', linewidth=2, axis='y', alpha=0.7)\n",
    "plt.xticks(rotation=90)\n",
    "\n",
    "# Mostrar la figura\n",
    "plt.show()"
   ]
  },
  {
   "cell_type": "markdown",
   "id": "c1898bbd",
   "metadata": {},
   "source": [
    "Una figura puede contener varias subtramas, cada una es su propio *eje*. \n",
    "\n",
    "Por ejemplo, el siguiente código crea una figura con dos subgráficos: uno es un gráfico de barras que muestra las calificaciones de los estudiantes y el otro es un gráfico circular que compara el número de calificaciones aprobatorias con las calificaciones no aprobatorias."
   ]
  },
  {
   "cell_type": "code",
   "execution_count": 12,
   "id": "7dbccaf5",
   "metadata": {},
   "outputs": [
    {
     "name": "stderr",
     "output_type": "stream",
     "text": [
      "C:\\Users\\HECTO\\AppData\\Local\\Temp\\ipykernel_1640\\3005409798.py:7: UserWarning: FixedFormatter should only be used together with FixedLocator\n",
      "  ax[0].set_xticklabels(df_students.Name, rotation=90)\n",
      "C:\\Users\\HECTO\\AppData\\Local\\Temp\\ipykernel_1640\\3005409798.py:19: UserWarning: Matplotlib is currently using module://matplotlib_inline.backend_inline, which is a non-GUI backend, so cannot show the figure.\n",
      "  fig.show()\n"
     ]
    },
    {
     "data": {
      "image/png": "[encoded data removed]",
      "text/plain": [
       "<Figure size 720x288 with 2 Axes>"
      ]
     },
     "metadata": {
      "needs_background": "light"
     },
     "output_type": "display_data"
    }
   ],
   "source": [
    "# Crear una figura para 2 subparcelas (1 row, 2 columns)\n",
    "fig, ax = plt.subplots(1, 2, figsize = (10,4))\n",
    "\n",
    "# Crear una barra plot de nombre vs grado en el primer eje\n",
    "ax[0].bar(x=df_students.Name, height=df_students.Grade, color='orange')\n",
    "ax[0].set_title('Grades')\n",
    "ax[0].set_xticklabels(df_students.Name, rotation=90)\n",
    "\n",
    "# Crear un gráfico circular en base en la cuenta en el segundo eje\n",
    "pass_counts = df_students['Pass'].value_counts()\n",
    "ax[1].pie(pass_counts, labels=pass_counts)\n",
    "ax[1].set_title('Passing Grades')\n",
    "ax[1].legend(pass_counts.keys().tolist())\n",
    "\n",
    "# Añadir un título a la Figura\n",
    "fig.suptitle('Student Data')\n",
    "\n",
    "# Show the figure\n",
    "fig.show()"
   ]
  },
  {
   "cell_type": "markdown",
   "id": "82830108",
   "metadata": {},
   "source": [
    "Hata ahora, ha utilizado métodos del objeto Matplotlib.pyplot para trazar gráficos. Sin embargo, Matplotlib es tan fundamental para los gráficos en Python que muchos paquetes, incluido Pandas, proporcionan métodos que abstraen las funciones subyacentes de Matplotlib y simplifican el trazado. Por ejemplo, DataFrame proporciona sus propios métodos para trazar datos, como se muestra en el siguiente ejemplo para trazar un gráfico de barras de horas de estudio."
   ]
  },
  {
   "cell_type": "code",
   "execution_count": 14,
   "id": "4c3f3ad8",
   "metadata": {},
   "outputs": [
    {
     "data": {
      "text/plain": [
       "<AxesSubplot:xlabel='Name'>"
      ]
     },
     "execution_count": 14,
     "metadata": {},
     "output_type": "execute_result"
    },
    {
     "data": {
      "image/png": "[encoded data removed]",
      "text/plain": [
       "<Figure size 432x288 with 1 Axes>"
      ]
     },
     "metadata": {
      "needs_background": "light"
     },
     "output_type": "display_data"
    }
   ],
   "source": [
    "df_students.plot.bar(x='Name', y='StudyHours', color='teal', figsize=(6,4))"
   ]
  },
  {
   "cell_type": "markdown",
   "id": "550198ec",
   "metadata": {},
   "source": [
    "## Primeros pasos con el análisis estadístico\n",
    "\n",
    "Ahora que sabe cómo usar Python para manipular y visuazlizar datos, puede comenzar a analizarlos.\n",
    "\n",
    "Gran parte de la ciencia de dtos tiene su raíces en las *estadísticas*, por lo que exploraremos algunas técnicas estadíticas básicas.\n",
    "\n",
    "> **Nota**: Esto <u>no</u> tiene la intención de enseñarle estadídtica; ese es un tema demasiado amplio par este nootbook. Sin embargo, le presentará algunos conceptos y técnicas estadísitcas que utilizan los científicos de datos mientras exploran los datos en preparación para el modelado de **machine learning**\n",
    "\n",
    "\n",
    "### Estadística descriptivas y distribución de datos\n",
    "\n",
    "Al examinar una *variable* (por eemplo, una muestra de calificaciones de los estudiantes). El punto de partida para esta exploración suele ser visualizar los datos como un histograma y ver con qué frecienci acurre cada valor de la varible.\n"
   ]
  },
  {
   "cell_type": "code",
   "execution_count": 15,
   "id": "597fa98b",
   "metadata": {},
   "outputs": [
    {
     "name": "stderr",
     "output_type": "stream",
     "text": [
      "C:\\Users\\HECTO\\AppData\\Local\\Temp\\ipykernel_1640\\373489435.py:16: UserWarning: Matplotlib is currently using module://matplotlib_inline.backend_inline, which is a non-GUI backend, so cannot show the figure.\n",
      "  fig.show()\n"
     ]
    },
    {
     "data": {
      "image/png": "[encoded data removed]",
      "text/plain": [
       "<Figure size 720x288 with 1 Axes>"
      ]
     },
     "metadata": {
      "needs_background": "light"
     },
     "output_type": "display_data"
    }
   ],
   "source": [
    "# Obtener la variable a examinar\n",
    "var_data = df_students['Grade']\n",
    "\n",
    "# Crear una figura\n",
    "fig = plt.figure(figsize=(10,4))\n",
    "\n",
    "# Trazar un histograma\n",
    "plt.hist(var_data)\n",
    "\n",
    "# Añsdir los títulos y las etiquetas\n",
    "plt.title('Data Distribution')\n",
    "plt.xlabel('Value')\n",
    "plt.ylabel('Frequency')\n",
    "\n",
    "# Mostrar la figura\n",
    "fig.show()"
   ]
  },
  {
   "cell_type": "markdown",
   "id": "aaab3bbc",
   "metadata": {},
   "source": [
    "El histograma de calificaciones tiene un forma simétrica, donde las calificaciones que ocurren con mayor frecuencia tienden a estar en el medio del rango (alrededor de 50), con menos calificaciones en los extremos de la escala. \n",
    "\n",
    "### Medidas de tendencia central\n",
    "\n",
    "Para entender mejor la distribución, podemos examinar las llamadas *medidas de tendencia central*; que es una forma elegante de describir las estadísticas que representan el \"medio\" de los datos. El objetivo de esto es trata de encontrar un valor \"típico\". Las formas comunes de definir el medio de los datos incluyen:\n",
    "- La *media*: Un promedio simple badaso en sumar todos los valores en el conjunto de muestras y luego dividir el total por el número de muestras.\n",
    "- La *mediana*: El valor en el medio del rango de todos los valores de la muestra.\n",
    "- La *moda*: el valor que ocurre con mayor frecuencia en el conjunto d ela muestra.\n",
    "\n",
    "Calculemos etos valores, junto con los valores mínimo y máximo para comparar, y mostémoslos en el histograma.\n",
    "\n",
    "\n",
    "> <sup>\\*</sup>Por supuesto, en algunos conjuntos de muestras, pueden haber un empate para el valor más común, en cuyo caso el conjunto de datos se describe como *bimodal* o incluso *multimodal*."
   ]
  },
  {
   "cell_type": "code",
   "execution_count": 16,
   "id": "0c964ef6",
   "metadata": {},
   "outputs": [
    {
     "name": "stdout",
     "output_type": "stream",
     "text": [
      "Minimum:3.00\n",
      "Mean:49.18\n",
      "Median:49.50\n",
      "Mode:50.00\n",
      "Maximum:97.00\n",
      "\n"
     ]
    },
    {
     "name": "stderr",
     "output_type": "stream",
     "text": [
      "C:\\Users\\HECTO\\AppData\\Local\\Temp\\ipykernel_1640\\2801657666.py:36: UserWarning: Matplotlib is currently using module://matplotlib_inline.backend_inline, which is a non-GUI backend, so cannot show the figure.\n",
      "  fig.show()\n"
     ]
    },
    {
     "data": {
      "image/png": "[encoded data removed]",
      "text/plain": [
       "<Figure size 720x288 with 1 Axes>"
      ]
     },
     "metadata": {
      "needs_background": "light"
     },
     "output_type": "display_data"
    }
   ],
   "source": [
    "# Obtener la variable a examinar\n",
    "var = df_students['Grade']\n",
    "\n",
    "# Obtener las medidas de tendencia central\n",
    "min_val = var.min()\n",
    "max_val = var.max()\n",
    "mean_val = var.mean()\n",
    "med_val = var.median()\n",
    "mod_val = var.mode()[0]\n",
    "\n",
    "print('Minimum:{:.2f}\\nMean:{:.2f}\\nMedian:{:.2f}\\nMode:{:.2f}\\nMaximum:{:.2f}\\n'.format(min_val,\n",
    "                                                                                        mean_val,\n",
    "                                                                                        med_val,\n",
    "                                                                                        mod_val,\n",
    "                                                                                        max_val))\n",
    "\n",
    "# Creamos la figura\n",
    "fig = plt.figure(figsize=(10,4))\n",
    "\n",
    "# Trazar un histograma\n",
    "plt.hist(var)\n",
    "\n",
    "# Añadir líneas para las medidas de tendencia central\n",
    "plt.axvline(x=min_val, color = 'gray', linestyle='dashed', linewidth = 2)\n",
    "plt.axvline(x=mean_val, color = 'cyan', linestyle='dashed', linewidth = 2)\n",
    "plt.axvline(x=med_val, color = 'red', linestyle='dashed', linewidth = 2)\n",
    "plt.axvline(x=mod_val, color = 'yellow', linestyle='dashed', linewidth = 2)\n",
    "plt.axvline(x=max_val, color = 'gray', linestyle='dashed', linewidth = 2)\n",
    "\n",
    "# Anadir títulos y etiquetas\n",
    "plt.title('Data Distribution')\n",
    "plt.xlabel('Value')\n",
    "plt.ylabel('Frequency')\n",
    "\n",
    "# Mostrar figura\n",
    "fig.show()"
   ]
  },
  {
   "cell_type": "markdown",
   "id": "3cf83d75",
   "metadata": {},
   "source": [
    "Para los datos de calificación, la media, la mediana y la moda parecen estar más o menos en el medio del mínimo y el máximo, alrededor de 50.\n",
    "\n",
    "Otra forma de visualizar la distribución de una variable es usar un diagrama de *caja* ( a veces llamado diagrama de *caja* y *bigores*). Vamos a crear uno para los datos de calificación."
   ]
  },
  {
   "cell_type": "code",
   "execution_count": 17,
   "id": "1dc193a4",
   "metadata": {},
   "outputs": [
    {
     "name": "stderr",
     "output_type": "stream",
     "text": [
      "C:\\Users\\HECTO\\AppData\\Local\\Temp\\ipykernel_1640\\3917643413.py:14: UserWarning: Matplotlib is currently using module://matplotlib_inline.backend_inline, which is a non-GUI backend, so cannot show the figure.\n",
      "  fig.show()\n"
     ]
    },
    {
     "data": {
      "image/png": "[encoded data removed]",
      "text/plain": [
       "<Figure size 720x288 with 1 Axes>"
      ]
     },
     "metadata": {
      "needs_background": "light"
     },
     "output_type": "display_data"
    }
   ],
   "source": [
    "# Obtener la variable a examinar\n",
    "var = df_students['Grade']\n",
    "\n",
    "# Crear la figura\n",
    "fig = plt.figure(figsize=(10,4))\n",
    "\n",
    "# Trazar el histograma\n",
    "plt.boxplot(var)\n",
    "\n",
    "# Añador títulos y estiquetas\n",
    "plt.title('Data Distribution')\n",
    "\n",
    "# Mostrar la figura\n",
    "fig.show()"
   ]
  },
  {
   "cell_type": "markdown",
   "id": "f0862ce5",
   "metadata": {},
   "source": [
    "El diagrama de caja muestra la distribución de los valores de calificación en un formato diferente al del histograma. La parte del *cuadro* de la gráfica meustra dónde residen los dos *cuartiles* internos de los datos; por lo tanto, en ese caso, la mitad de las calificaciones están entre aproximadamente 36 y 63. Los *bigotes* que se extienden desde el cuadro muestran los dos cuartiles externos; por lo que la otra mitad de las calificaciones en este caso están entreo 0 y 36 o 63 y 100. La líne en el recuadro indica el valor de la *mediana*. \n",
    "\n",
    "Para aprender,, puede ser útil combinar hisotramas y diagramas de caja, cambiando la orientación del diagrama de caja para alinearlo con el histograma (de alguna manera, puede ser útil pensar en l histograma como una vista de \"alzado frontal\" de la distribución, y el diagrama de caa como una vista de \"plano\" de la distribución desde arriba)."
   ]
  },
  {
   "cell_type": "code",
   "execution_count": 18,
   "id": "750e0810",
   "metadata": {},
   "outputs": [
    {
     "name": "stdout",
     "output_type": "stream",
     "text": [
      "Minimum:3.00\n",
      "Mean:49.18\n",
      "Median:49.50\n",
      "Mode:50.00\n",
      "Maximum:97.00\n",
      "\n"
     ]
    },
    {
     "name": "stderr",
     "output_type": "stream",
     "text": [
      "C:\\Users\\HECTO\\AppData\\Local\\Temp\\ipykernel_1640\\309883517.py:40: UserWarning: Matplotlib is currently using module://matplotlib_inline.backend_inline, which is a non-GUI backend, so cannot show the figure.\n",
      "  fig.show()\n"
     ]
    },
    {
     "data": {
      "image/png": "[encoded data removed]",
      "text/plain": [
       "<Figure size 720x288 with 2 Axes>"
      ]
     },
     "metadata": {
      "needs_background": "light"
     },
     "output_type": "display_data"
    }
   ],
   "source": [
    "# Crear una función que podamos reutilizar\n",
    "def show_distribution(var_data):\n",
    "    from matplotlib import pyplot as plt\n",
    "\n",
    "    # Obtenemos las medidas de tendencia central\n",
    "    min_val = var_data.min()\n",
    "    max_val = var_data.max()\n",
    "    mean_val = var_data.mean()\n",
    "    med_val = var_data.median()\n",
    "    mod_val = var_data.mode()[0]\n",
    "\n",
    "    print('Minimum:{:.2f}\\nMean:{:.2f}\\nMedian:{:.2f}\\nMode:{:.2f}\\nMaximum:{:.2f}\\n'.format(min_val,\n",
    "                                                                                            mean_val,\n",
    "                                                                                            med_val,\n",
    "                                                                                            mod_val,\n",
    "                                                                                            max_val))\n",
    "\n",
    "    # Crear una figura para 2 subparcelas (2 filas, 1 columna)\n",
    "    fig, ax = plt.subplots(2, 1, figsize = (10,4))\n",
    "\n",
    "    # Trazar el hisotrama\n",
    "    ax[0].hist(var_data)\n",
    "    ax[0].set_ylabel('Frequency')\n",
    "\n",
    "    # Añadir líneas para la media, mediana y moda\n",
    "    ax[0].axvline(x=min_val, color = 'gray', linestyle='dashed', linewidth = 2)\n",
    "    ax[0].axvline(x=mean_val, color = 'cyan', linestyle='dashed', linewidth = 2)\n",
    "    ax[0].axvline(x=med_val, color = 'red', linestyle='dashed', linewidth = 2)\n",
    "    ax[0].axvline(x=mod_val, color = 'yellow', linestyle='dashed', linewidth = 2)\n",
    "    ax[0].axvline(x=max_val, color = 'gray', linestyle='dashed', linewidth = 2)\n",
    "\n",
    "    # Trazar el diagrama de caja   \n",
    "    ax[1].boxplot(var_data, vert=False)\n",
    "    ax[1].set_xlabel('Value')\n",
    "\n",
    "    # Añadir título a la figura\n",
    "    fig.suptitle('Data Distribution')\n",
    "\n",
    "    # Mostrar la figura\n",
    "    fig.show()\n",
    "\n",
    "# Obtener la variable a examinar\n",
    "col = df_students['Grade']\n",
    "# Llamar la la función\n",
    "show_distribution(col)"
   ]
  },
  {
   "cell_type": "markdown",
   "id": "06b638f0",
   "metadata": {},
   "source": [
    "Todas las medidas de tendencia central están justo en el medio de la distribución de datos, que es simétrica con valores que se vuelven progresivamente más bajos en ambar direcciones desde el medio.\n",
    "\n",
    "Para explorar esta distribución con más detalle, debe comprender que las estadísticas consisten fundamentalmente en tomar *muestras* de datos y usar funciones de probabilidad para extrapolar información sobre la *población* total de datos.\n",
    "\n",
    "¿qué significa esto? *Las muestras* se refieren a los datos que tenemso a mano, como información sobre los hábitos de estudio y las calificaciones de estos 22 estudiantes. La *pobración* se refiere a todos los datos posibles que podríamos recopilar, como las califiaciones y los hábitos de estudio de cada estudante en todas las instituciones educativa a lo largo de la historia. Por lo general, estamos interesados en la población, pero simplemente no es práctico recopilar todos esos datos. En su lugar, debemos intentar estimar cómo es la población a partir de la pequeña cantidad de datos (muestra) que tenemos.\n",
    "\n",
    "Si tenemos suficientes muestras,, podemos calbular algo llamado *función de densidad de probabilidad*, que estima la distribución de calificaciones para la población completa.\n",
    "\n",
    "La clase **pyplot** de matoplotlib proporciona una función gráfica útil para mostrar esta densidad.\n"
   ]
  },
  {
   "cell_type": "code",
   "execution_count": 22,
   "id": "0515c9d5",
   "metadata": {},
   "outputs": [
    {
     "data": {
      "image/png": "[encoded data removed]",
      "text/plain": [
       "<Figure size 720x288 with 1 Axes>"
      ]
     },
     "metadata": {
      "needs_background": "light"
     },
     "output_type": "display_data"
    }
   ],
   "source": [
    "def show_density(var_data):\n",
    "    #from matplotlib import pyplot as plt\n",
    "\n",
    "    fig = plt.figure(figsize=(10,4))\n",
    "\n",
    "    # Trazar la densidad\n",
    "    var_data.plot.density()\n",
    "\n",
    "    # Añadir títulos y etiquetas\n",
    "    plt.title('Data Density')\n",
    "\n",
    "    # Mostrar la media, mediana y moda\n",
    "    plt.axvline(x=var_data.mean(), color = 'cyan', linestyle='dashed', linewidth = 2)\n",
    "    plt.axvline(x=var_data.median(), color = 'red', linestyle='dashed', linewidth = 2)\n",
    "    plt.axvline(x=var_data.mode()[0], color = 'yellow', linestyle='dashed', linewidth = 2)\n",
    "\n",
    "    # Mostrar la figura\n",
    "    plt.show()\n",
    "\n",
    "# Obtener la densidad de calificaciones\n",
    "col = df_students['Grade']\n",
    "show_density(col)"
   ]
  },
  {
   "cell_type": "markdown",
   "id": "44137c2c",
   "metadata": {},
   "source": [
    "Como se esperaba del histograma de la muestra, la densiadad muestra la característica \"curva de campana\" de lo que los estadísticos llaman una distribución *normal con la media y la moda en el centro y colas simétricas*.\n",
    "\n",
    "### Resumen\n",
    "\n",
    "¡Bien hecho! Hubo una serie de conceptos nuevos aquí, así que resumamos. \n",
    "\n",
    "Aquí tenemos:\n",
    "1. Gráficos hehcos con matplotlib\n",
    "2. He visto cómo personalizar estos gráficos.\n",
    "3. Estadísticas básicas calculadas, como gráficos.\n",
    "4. Examinó la dispersión de datos mediante diagramas de caja e histogramas. \n",
    "5. Aprendió sobre muestras vs poblaciones.\n",
    "6. Clauló cómo se vería la población de grados a partir de una muestra de calificaciones.\n",
    "\n",
    "En nuestro próximo cuaderno, veremos la detección de datos inusuales y la búsqueda de relaciones entre los datos.\n",
    "\n",
    "### Otras lecturas\n",
    "\n",
    "Para obtener más información sobre los paquetes de Python que exploró en este cuaderno, consulte la siguiente documentación: \n",
    "\n",
    "- [NumPy](https://numpy.org/doc/stable/)\n",
    "- [Pandas](https://pandas.pydata.org/pandas-docs/stable/)\n",
    "- [Matplotlib](https://matplotlib.org/contents.html)"
   ]
  }
 ],
 "metadata": {
  "kernelspec": {
   "display_name": "Python 3 (ipykernel)",
   "language": "python",
   "name": "python3"
  },
  "language_info": {
   "codemirror_mode": {
    "name": "ipython",
    "version": 3
   },
   "file_extension": ".py",
   "mimetype": "text/x-python",
   "name": "python",
   "nbconvert_exporter": "python",
   "pygments_lexer": "ipython3",
   "version": "3.9.12"
  }
 },
 "nbformat": 4,
 "nbformat_minor": 5
}
