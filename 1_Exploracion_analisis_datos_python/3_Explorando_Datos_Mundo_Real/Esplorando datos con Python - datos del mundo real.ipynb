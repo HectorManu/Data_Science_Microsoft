{
 "cells": [
  {
   "cell_type": "markdown",
   "id": "2d76a798",
   "metadata": {},
   "source": [
    "# Explorando datos con Python - datos del mundo real\n",
    "\n",
    "La última vez, observamos las calificaciones de los datos de nuestros estudiantes e investigamos esto visualmente con histogramas y diagramas de caja. Ahora analizaremos casos más complejos, describiremos los datos con más detalle y discutiremos hacer comparaciones básicas entre datos.\n",
    "\n",
    "## Distibuciones de datos del mundo real\n",
    "\n",
    "La última vez, observamos las calificaciones de los datos de nuestros estudiantes y etimamos a partir de esta muestra cómo sería la población total de calificaciones. solo para acutlizar, echemos un vistazo a estos datos nuevamente. \n",
    "\n",
    "Ejecute el código a contiuación para imprimir los datos y hacer un histograma + diagrama de caja que muestre las calificaciones de nuestra muestra de estudiantes.\n"
   ]
  },
  {
   "cell_type": "code",
   "execution_count": 1,
   "id": "e730958a",
   "metadata": {},
   "outputs": [
    {
     "name": "stdout",
     "output_type": "stream",
     "text": [
      "         Name  StudyHours  Grade   Pass\n",
      "0         Dan       10.00   50.0  False\n",
      "1       Joann       11.50   50.0  False\n",
      "2       Pedro        9.00   47.0  False\n",
      "3       Rosie       16.00   97.0   True\n",
      "4       Ethan        9.25   49.0  False\n",
      "5       Vicky        1.00    3.0  False\n",
      "6    Frederic       11.50   53.0  False\n",
      "7      Jimmie        9.00   42.0  False\n",
      "8      Rhonda        8.50   26.0  False\n",
      "9    Giovanni       14.50   74.0   True\n",
      "10  Francesca       15.50   82.0   True\n",
      "11      Rajab       13.75   62.0   True\n",
      "12    Naiyana        9.00   37.0  False\n",
      "13       Kian        8.00   15.0  False\n",
      "14      Jenny       15.50   70.0   True\n",
      "15     Jakeem        8.00   27.0  False\n",
      "16     Helena        9.00   36.0  False\n",
      "17      Ismat        6.00   35.0  False\n",
      "18      Anila       10.00   48.0  False\n",
      "19       Skye       12.00   52.0  False\n",
      "20     Daniel       12.50   63.0   True\n",
      "21      Aisha       12.00   64.0   True\n",
      "Minimum:3.00\n",
      "Mean:49.18\n",
      "Median:49.50\n",
      "Mode:50.00\n",
      "Maximum:97.00\n",
      "\n"
     ]
    },
    {
     "name": "stderr",
     "output_type": "stream",
     "text": [
      "C:\\Users\\HECTO\\AppData\\Local\\Temp\\ipykernel_16020\\3811869025.py:63: UserWarning: Matplotlib is currently using module://matplotlib_inline.backend_inline, which is a non-GUI backend, so cannot show the figure.\n",
      "  fig.show()\n"
     ]
    },
    {
     "data": {
      "image/png": "[encoded data removed]",
      "text/plain": [
       "<Figure size 720x288 with 2 Axes>"
      ]
     },
     "metadata": {
      "needs_background": "light"
     },
     "output_type": "display_data"
    }
   ],
   "source": [
    "import pandas as pd\n",
    "from matplotlib import pyplot as plt\n",
    "\n",
    "# Cargar datos desde un arvhivo de texto\n",
    "url= \"https://raw.githubusercontent.com/MicrosoftDocs/mslearn-introduction-to-machine-learning/main/Data/ml-basics/grades.csv\"\n",
    "df_students = pd.read_csv(url,delimiter=',',header='infer')\n",
    "\n",
    "# Eliminamos cualqueier fila con datos faltantes\n",
    "df_students = df_students.dropna(axis=0, how='any')\n",
    "\n",
    "# Calcule quién aprobó, asumiendo que '60' es la calificación necesaria par aprobar\n",
    "passes  = pd.Series(df_students['Grade'] >= 60)\n",
    "\n",
    "# Guardar quién pasó el marco de datos de Pandas\n",
    "df_students = pd.concat([df_students, passes.rename(\"Pass\")], axis=1)\n",
    "\n",
    "\n",
    "# Imprimie el resultado en este cuaderno\n",
    "print(df_students)\n",
    "\n",
    "\n",
    "# Creamos una función que podamos reutilizar\n",
    "def show_distribution(var_data):\n",
    "    '''\n",
    "    Esta función hará una distribución (gráfico) y lo mostrará\n",
    "    '''\n",
    "\n",
    "    # Obtener las medidas de tendencia central\n",
    "    min_val = var_data.min()\n",
    "    max_val = var_data.max()\n",
    "    mean_val = var_data.mean()\n",
    "    med_val = var_data.median()\n",
    "    mod_val = var_data.mode()[0]\n",
    "\n",
    "    print('Minimum:{:.2f}\\nMean:{:.2f}\\nMedian:{:.2f}\\nMode:{:.2f}\\nMaximum:{:.2f}\\n'.format(min_val,\n",
    "                                                                                            mean_val,\n",
    "                                                                                            med_val,\n",
    "                                                                                            mod_val,\n",
    "                                                                                            max_val))\n",
    "\n",
    "    # Crea una figura para 2 subparcelas (2 filas, 1 columna)\n",
    "    fig, ax = plt.subplots(2, 1, figsize = (10,4))\n",
    "\n",
    "    # Gráficar el histograma   \n",
    "    ax[0].hist(var_data)\n",
    "    ax[0].set_ylabel('Frequency')\n",
    "\n",
    "    # Agregar líneas para las medidas de tendencia central\n",
    "    ax[0].axvline(x=min_val, color = 'gray', linestyle='dashed', linewidth = 2)\n",
    "    ax[0].axvline(x=mean_val, color = 'cyan', linestyle='dashed', linewidth = 2)\n",
    "    ax[0].axvline(x=med_val, color = 'red', linestyle='dashed', linewidth = 2)\n",
    "    ax[0].axvline(x=mod_val, color = 'yellow', linestyle='dashed', linewidth = 2)\n",
    "    ax[0].axvline(x=max_val, color = 'gray', linestyle='dashed', linewidth = 2)\n",
    "\n",
    "    # Trazar el diagrama de caja  \n",
    "    ax[1].boxplot(var_data, vert=False)\n",
    "    ax[1].set_xlabel('Value')\n",
    "\n",
    "    # Añadir título de la figura\n",
    "    fig.suptitle('Data Distribution')\n",
    "\n",
    "    # Mostrar la figura \n",
    "    fig.show()\n",
    "\n",
    "\n",
    "show_distribution(df_students['Grade'])"
   ]
  },
  {
   "cell_type": "markdown",
   "id": "25fb9553",
   "metadata": {},
   "source": [
    "Como recordará, nuestros datos tenían la meida y la moda en el centro, con datos distribuidos simétricamente desde allí. \n",
    "\n",
    "Ahora echemos un vistazo a la distribución d elos datos de horas de estudio."
   ]
  },
  {
   "cell_type": "code",
   "execution_count": 2,
   "id": "3a790922",
   "metadata": {},
   "outputs": [
    {
     "name": "stdout",
     "output_type": "stream",
     "text": [
      "Minimum:1.00\n",
      "Mean:10.52\n",
      "Median:10.00\n",
      "Mode:9.00\n",
      "Maximum:16.00\n",
      "\n"
     ]
    },
    {
     "name": "stderr",
     "output_type": "stream",
     "text": [
      "C:\\Users\\HECTO\\AppData\\Local\\Temp\\ipykernel_16020\\3811869025.py:63: UserWarning: Matplotlib is currently using module://matplotlib_inline.backend_inline, which is a non-GUI backend, so cannot show the figure.\n",
      "  fig.show()\n"
     ]
    },
    {
     "data": {
      "image/png": "[encoded data removed]",
      "text/plain": [
       "<Figure size 720x288 with 2 Axes>"
      ]
     },
     "metadata": {
      "needs_background": "light"
     },
     "output_type": "display_data"
    }
   ],
   "source": [
    "# Otener la variable a examinar\n",
    "col = df_students['StudyHours']\n",
    "# Llamamos a la función\n",
    "show_distribution(col)"
   ]
  },
  {
   "cell_type": "markdown",
   "id": "69145756",
   "metadata": {},
   "source": [
    "La ditribución de los datos de tiempo de estudio es significativamente diferente a la de las calificaciones. \n",
    "\n",
    "tenga en cuenta que los bigotes del diagrama de caja solo comienzan al rededor de 6,0, lo que indica que la gran mayoría del primer trimestre de los datos está por encima de este valor. El mínimo está marcado con un **o**, lo que indica que estadísticamente es un *valor atípido*, un valor que se encuentra significativamente fuera del rango del resto de la distribución.\n",
    "\n",
    "Los valores atípicos pueden ocurrir por muchas razones. Tal vez un estudiante pretendía registrar \"10\" horas de tiempo de estudio, pero ingresó \"1! y se perdió el \"O\". ¡O tal vez el estudiante era anormalmente perezoso cuando se trataba de estudiar! De cualquier manera, es una anomalía estadística que no representa a un estudiante típico. Veamos cómo se ve la distribución sin él.\n",
    "\n"
   ]
  },
  {
   "cell_type": "code",
   "execution_count": 3,
   "id": "21a7f731",
   "metadata": {},
   "outputs": [
    {
     "name": "stdout",
     "output_type": "stream",
     "text": [
      "Minimum:6.00\n",
      "Mean:10.98\n",
      "Median:10.00\n",
      "Mode:9.00\n",
      "Maximum:16.00\n",
      "\n"
     ]
    },
    {
     "name": "stderr",
     "output_type": "stream",
     "text": [
      "C:\\Users\\HECTO\\AppData\\Local\\Temp\\ipykernel_16020\\3811869025.py:63: UserWarning: Matplotlib is currently using module://matplotlib_inline.backend_inline, which is a non-GUI backend, so cannot show the figure.\n",
      "  fig.show()\n"
     ]
    },
    {
     "data": {
      "image/png": "[encoded data removed]",
      "text/plain": [
       "<Figure size 720x288 with 2 Axes>"
      ]
     },
     "metadata": {
      "needs_background": "light"
     },
     "output_type": "display_data"
    }
   ],
   "source": [
    "# Obtener la variable a examinar\n",
    "# Solo recibiremos alumnos que hayan estudiado más de una hora\n",
    "col = df_students[df_students.StudyHours>1]['StudyHours']\n",
    "\n",
    "# Llamar a la función\n",
    "show_distribution(col)"
   ]
  },
  {
   "cell_type": "markdown",
   "id": "37978e20",
   "metadata": {},
   "source": [
    "Para fines de aprendizaje, acabamos de tratar el valor **1** como un verdadero valor atípico aquí y lo exluimos. Sin embargo, en el mundo real, sería inusual exluir datos en los estremos sin más justificación cuando el tamaño de nuestra meustra es tan pequeño. }Esto se debe a que cuando más pequeño sea el tamaño de neustra meustra, más probable es que neustra muestra sea una mala representación de toda la población (aquí, la población significa las calificaciones de todos los estudiantes, no solo de nuestros 22). Por ejemplo, si muestreamos el tiempo de estudio de otros 1000 estudiantes, ¡podríamos encontrar que en realidad es bastante común no estudiar mucho!\n",
    "\n",
    "Cuando tenemos más datos disponibles, nuestra muestra se vuelve más confiable. Esto hace que sea más fácil considerar valores atípicos como valors que cean por debajo o por encima delos percentiles dentro de los cuales se encuentran la mayoría de los datos. Por ejemplo, el siguiente código utiliza la función **cuantil** de Pandas para exluir las observaciones por debajo del percentil 0,01 (el valor por encima del cual reside el 99 % de los datos)."
   ]
  },
  {
   "cell_type": "code",
   "execution_count": 4,
   "id": "f8ba4c20",
   "metadata": {},
   "outputs": [
    {
     "name": "stdout",
     "output_type": "stream",
     "text": [
      "Minimum:6.00\n",
      "Mean:10.98\n",
      "Median:10.00\n",
      "Mode:9.00\n",
      "Maximum:16.00\n",
      "\n"
     ]
    },
    {
     "name": "stderr",
     "output_type": "stream",
     "text": [
      "C:\\Users\\HECTO\\AppData\\Local\\Temp\\ipykernel_16020\\3811869025.py:63: UserWarning: Matplotlib is currently using module://matplotlib_inline.backend_inline, which is a non-GUI backend, so cannot show the figure.\n",
      "  fig.show()\n"
     ]
    },
    {
     "data": {
      "image/png": "[encoded data removed]",
      "text/plain": [
       "<Figure size 720x288 with 2 Axes>"
      ]
     },
     "metadata": {
      "needs_background": "light"
     },
     "output_type": "display_data"
    }
   ],
   "source": [
    "# Calcular el percentil 0.01\n",
    "q01 = df_students.StudyHours.quantile(0.01)\n",
    "# Obtener la variable a examinar\n",
    "col = df_students[df_students.StudyHours>q01]['StudyHours']\n",
    "# Llamar a la función\n",
    "show_distribution(col)"
   ]
  },
  {
   "cell_type": "markdown",
   "id": "96db2f06",
   "metadata": {},
   "source": [
    "> **Sugerencia**: También puede eliminar los valores atípicos en el extremo superior d ela distribución definiendo un umbral en un valor de percentil alto; por ejemplo, podría usar la funcion **quantile** para encontrar el percentil 0,99 por debajo del cual reside el 99% de los datos.\n",
    "\n",
    "Con los valors atípicos elimados, el diagrama de caja muestra todos los datos dentro de los cuatro cuartiles. Sin embargo, tenga en cuenta que la distribución no es simétrica como lo es para los datos de calificaciones: hay algunos estudiantes con tiempos de estudio muy altos de alrededor de 16 horas, pero la mayor parte de los datos es de entre 7 y 13 horas; Los pocos valores extremandamente altos tiran de la media hacia el extremo superior de la escala.\n",
    "\n",
    "Veamos la dnsidad de esta distribución."
   ]
  },
  {
   "cell_type": "code",
   "execution_count": 5,
   "id": "02cbca1d",
   "metadata": {},
   "outputs": [
    {
     "data": {
      "image/png": "[encoded data removed]",
      "text/plain": [
       "<Figure size 720x288 with 1 Axes>"
      ]
     },
     "metadata": {
      "needs_background": "light"
     },
     "output_type": "display_data"
    }
   ],
   "source": [
    "def show_density(var_data):\n",
    "    fig = plt.figure(figsize=(10,4))\n",
    "\n",
    "    # Trazar la densidad\n",
    "    var_data.plot.density()\n",
    "\n",
    "    # Añadir títulos\n",
    "    plt.title('Data Density')\n",
    "\n",
    "    # Mostrar las medidas de tendencia central\n",
    "    plt.axvline(x=var_data.mean(), color = 'cyan', linestyle='dashed', linewidth = 2)\n",
    "    plt.axvline(x=var_data.median(), color = 'red', linestyle='dashed', linewidth = 2)\n",
    "    plt.axvline(x=var_data.mode()[0], color = 'yellow', linestyle='dashed', linewidth = 2)\n",
    "\n",
    "    # Mostrar la figura\n",
    "    plt.show()\n",
    "\n",
    "# Obtener la densidad de estudios por hora\n",
    "show_density(col)"
   ]
  },
  {
   "cell_type": "markdown",
   "id": "84da8f8e",
   "metadata": {},
   "source": [
    "Este tipo de distribución se llama *asimétrica a la derecha*. La masa de los datos está en el lado izquierdo de la distribución, creando una larga cola hacia la derecha debido a los valores enel extremo superior; que tiran d ela media hacia la derecha.\n",
    "\n",
    "### Medidas de varianza\n",
    "\n",
    "Así que ahora tenemos una buena idea de dónde está la mitad de las distribuciones de datos de calificaciones y horas de estudio. Sin embargo, hay otro aspecto de la distribuciones que debemos examinar: ¿cuánta variabilidad hay en los datos?\n",
    "\n",
    "Las estadísticas típicas que miden la variabilidad en los datos incluyen:\n",
    "- **Rango**: La diferencia entre el máximo y mínimo. No hay una función integrada para esto, pero es fácil de calcular usando las funciones **min** y **max**.\n",
    "- **Varianza**: El promedio de la diferencia al cuadrado de la media. Puede usar la función **var** incorporada para encontrar esto.\n",
    "- **Desviación estándar**: La raíz cuadrada de la varianza. Puede usar la función**estándar** incorporada para encontrar esto.\n"
   ]
  },
  {
   "cell_type": "code",
   "execution_count": 7,
   "id": "2cdc3719",
   "metadata": {},
   "outputs": [
    {
     "name": "stdout",
     "output_type": "stream",
     "text": [
      "\n",
      "Grade:\n",
      " - Range: 94.00\n",
      " - Variance: 472.54\n",
      " - Std.Dev: 21.74\n",
      "\n",
      "StudyHours:\n",
      " - Range: 15.00\n",
      " - Variance: 12.16\n",
      " - Std.Dev: 3.49\n"
     ]
    }
   ],
   "source": [
    "for col_name in ['Grade','StudyHours']:\n",
    "    col = df_students[col_name]\n",
    "    rng = col.max() - col.min()\n",
    "    var = col.var()\n",
    "    std = col.std()\n",
    "    print('\\n{}:\\n - Range: {:.2f}\\n - Variance: {:.2f}\\n - Std.Dev: {:.2f}'.format(col_name, rng, var, std))"
   ]
  },
  {
   "cell_type": "markdown",
   "id": "9cd0e707",
   "metadata": {},
   "source": [
    "De estas estadísticas, la desviación estándar es generalmente la más útil. Proporciona una medida de la varianza de los datos en la misma escala que los datos mismos (por lo tanto, puntos de calificación para la distribución de calificaciones y horas para la distribución de horas de estudio). Cuando mayor sea la desviación estándar, mayor será la variación al comparar los valores de la distribución;  en otras palabras, los datos estarán más dispersos.\n",
    "\n",
    "Cuando se trabaja con una distribución *normal*, la desviación estándar funciona con las características particulares de una distribución normal para brindar una visión aún mayor. Ejecute la celda a continuación para ver la relación entre las desviaciones estándar y los datos en la distribución."
   ]
  },
  {
   "cell_type": "code",
   "execution_count": 8,
   "id": "f8d47279",
   "metadata": {},
   "outputs": [
    {
     "data": {
      "image/png": "[encoded data removed]",
      "text/plain": [
       "<Figure size 432x288 with 1 Axes>"
      ]
     },
     "metadata": {
      "needs_background": "light"
     },
     "output_type": "display_data"
    }
   ],
   "source": [
    "import scipy.stats as stats\n",
    "\n",
    "# Obtener la columna de calificaciones\n",
    "col = df_students['Grade']\n",
    "\n",
    "# Obtener la densidad \n",
    "density = stats.gaussian_kde(col)\n",
    "\n",
    "# Trazar la densidad\n",
    "col.plot.density()\n",
    "\n",
    "# Obtener la media y la desviación estándar\n",
    "s = col.std()\n",
    "m = col.mean()\n",
    "\n",
    "# Anotar 1 desviación estándar\n",
    "x1 = [m-s, m+s]\n",
    "y1 = density(x1)\n",
    "plt.plot(x1,y1, color='magenta')\n",
    "plt.annotate('1 std (68.26%)', (x1[1],y1[1]))\n",
    "\n",
    "# Anotar 2 stdevs\n",
    "x2 = [m-(s*2), m+(s*2)]\n",
    "y2 = density(x2)\n",
    "plt.plot(x2,y2, color='green')\n",
    "plt.annotate('2 std (95.45%)', (x2[1],y2[1]))\n",
    "\n",
    "# Anotar 3 stdevs\n",
    "x3 = [m-(s*3), m+(s*3)]\n",
    "y3 = density(x3)\n",
    "plt.plot(x3,y3, color='orange')\n",
    "plt.annotate('3 std (99.73%)', (x3[1],y3[1]))\n",
    "\n",
    "# Mostrar la ubicación de la media\n",
    "plt.axvline(col.mean(), color='cyan', linestyle='dashed', linewidth=1)\n",
    "\n",
    "plt.axis('off')\n",
    "\n",
    "plt.show()"
   ]
  },
  {
   "cell_type": "markdown",
   "id": "6f7494b2",
   "metadata": {},
   "source": [
    "Las líneas horizontales muestran el porcentaje de datos dentreo de 1, 2 y 3 desviación estándar de la media (más o menos).\n",
    "\n",
    "En cualquier distribución normal:\n",
    "- Aproximadamente el 68,26% de los valores se encuentran dentro de una desviación estándar de la media.\n",
    "- Aproximadamente el 95,45% de los valores se encuentran dentro de dos desviaciones estándar de a media.\n",
    "- Aproximadamente el 99,73% de los valores se encuentran dentro de las tres desviaciones estándar de la media.\n",
    "\n",
    "Entonces, dado que sabemos que la calificación media es 49.18, la desviación estándar es 21.74 y la distribución de calificaciones es aproximadamente normal; podemos calcular que el 68,26% de los alumnos debería alcanzar una nota entre 27,44 y 70,92.\n",
    "\n",
    "Las estadísticas descriptivas que hemos usado para comprender la distribución de las variables de datos de los estudiantes son la base del análisis estadístico; y debio a que son una parte tan importante de la exploración de sus datos, hay uyn método. **Describir** incorporado del objeto DataFrame que devuelve las estadísticas descriptivas principales para todas las columnas numéricas."
   ]
  },
  {
   "cell_type": "code",
   "execution_count": 9,
   "id": "25c05493",
   "metadata": {},
   "outputs": [
    {
     "data": {
      "text/html": [
       "<div>\n",
       "<style scoped>\n",
       "    .dataframe tbody tr th:only-of-type {\n",
       "        vertical-align: middle;\n",
       "    }\n",
       "\n",
       "    .dataframe tbody tr th {\n",
       "        vertical-align: top;\n",
       "    }\n",
       "\n",
       "    .dataframe thead th {\n",
       "        text-align: right;\n",
       "    }\n",
       "</style>\n",
       "<table border=\"1\" class=\"dataframe\">\n",
       "  <thead>\n",
       "    <tr style=\"text-align: right;\">\n",
       "      <th></th>\n",
       "      <th>StudyHours</th>\n",
       "      <th>Grade</th>\n",
       "    </tr>\n",
       "  </thead>\n",
       "  <tbody>\n",
       "    <tr>\n",
       "      <th>count</th>\n",
       "      <td>22.000000</td>\n",
       "      <td>22.000000</td>\n",
       "    </tr>\n",
       "    <tr>\n",
       "      <th>mean</th>\n",
       "      <td>10.522727</td>\n",
       "      <td>49.181818</td>\n",
       "    </tr>\n",
       "    <tr>\n",
       "      <th>std</th>\n",
       "      <td>3.487144</td>\n",
       "      <td>21.737912</td>\n",
       "    </tr>\n",
       "    <tr>\n",
       "      <th>min</th>\n",
       "      <td>1.000000</td>\n",
       "      <td>3.000000</td>\n",
       "    </tr>\n",
       "    <tr>\n",
       "      <th>25%</th>\n",
       "      <td>9.000000</td>\n",
       "      <td>36.250000</td>\n",
       "    </tr>\n",
       "    <tr>\n",
       "      <th>50%</th>\n",
       "      <td>10.000000</td>\n",
       "      <td>49.500000</td>\n",
       "    </tr>\n",
       "    <tr>\n",
       "      <th>75%</th>\n",
       "      <td>12.375000</td>\n",
       "      <td>62.750000</td>\n",
       "    </tr>\n",
       "    <tr>\n",
       "      <th>max</th>\n",
       "      <td>16.000000</td>\n",
       "      <td>97.000000</td>\n",
       "    </tr>\n",
       "  </tbody>\n",
       "</table>\n",
       "</div>"
      ],
      "text/plain": [
       "       StudyHours      Grade\n",
       "count   22.000000  22.000000\n",
       "mean    10.522727  49.181818\n",
       "std      3.487144  21.737912\n",
       "min      1.000000   3.000000\n",
       "25%      9.000000  36.250000\n",
       "50%     10.000000  49.500000\n",
       "75%     12.375000  62.750000\n",
       "max     16.000000  97.000000"
      ]
     },
     "execution_count": 9,
     "metadata": {},
     "output_type": "execute_result"
    }
   ],
   "source": [
    "df_students.describe()"
   ]
  },
  {
   "cell_type": "markdown",
   "id": "27c104f9",
   "metadata": {},
   "source": [
    "### Comparando datos\n",
    "\n",
    "Ahora que sabe algo sobre la distribución estadística de los datos en su cojunto de datos, está listo para examinar sus datos para identificar cualquier relación aparente entre las variables. \n",
    "\n",
    "En primer lugar, deshagámonos de las filas que contengan valores atípicos para que tengamos una meustra que sea representativa de una clase típica de estudiantes. Identificamos que la columna StudyHours contiene algunos valores atípicos con valores extremadamente bajos, por lo que eliminaremos esas filas.\n"
   ]
  },
  {
   "cell_type": "code",
   "execution_count": 10,
   "id": "30a4a3cc",
   "metadata": {},
   "outputs": [
    {
     "data": {
      "text/html": [
       "<div>\n",
       "<style scoped>\n",
       "    .dataframe tbody tr th:only-of-type {\n",
       "        vertical-align: middle;\n",
       "    }\n",
       "\n",
       "    .dataframe tbody tr th {\n",
       "        vertical-align: top;\n",
       "    }\n",
       "\n",
       "    .dataframe thead th {\n",
       "        text-align: right;\n",
       "    }\n",
       "</style>\n",
       "<table border=\"1\" class=\"dataframe\">\n",
       "  <thead>\n",
       "    <tr style=\"text-align: right;\">\n",
       "      <th></th>\n",
       "      <th>Name</th>\n",
       "      <th>StudyHours</th>\n",
       "      <th>Grade</th>\n",
       "      <th>Pass</th>\n",
       "    </tr>\n",
       "  </thead>\n",
       "  <tbody>\n",
       "    <tr>\n",
       "      <th>0</th>\n",
       "      <td>Dan</td>\n",
       "      <td>10.00</td>\n",
       "      <td>50.0</td>\n",
       "      <td>False</td>\n",
       "    </tr>\n",
       "    <tr>\n",
       "      <th>1</th>\n",
       "      <td>Joann</td>\n",
       "      <td>11.50</td>\n",
       "      <td>50.0</td>\n",
       "      <td>False</td>\n",
       "    </tr>\n",
       "    <tr>\n",
       "      <th>2</th>\n",
       "      <td>Pedro</td>\n",
       "      <td>9.00</td>\n",
       "      <td>47.0</td>\n",
       "      <td>False</td>\n",
       "    </tr>\n",
       "    <tr>\n",
       "      <th>3</th>\n",
       "      <td>Rosie</td>\n",
       "      <td>16.00</td>\n",
       "      <td>97.0</td>\n",
       "      <td>True</td>\n",
       "    </tr>\n",
       "    <tr>\n",
       "      <th>4</th>\n",
       "      <td>Ethan</td>\n",
       "      <td>9.25</td>\n",
       "      <td>49.0</td>\n",
       "      <td>False</td>\n",
       "    </tr>\n",
       "    <tr>\n",
       "      <th>6</th>\n",
       "      <td>Frederic</td>\n",
       "      <td>11.50</td>\n",
       "      <td>53.0</td>\n",
       "      <td>False</td>\n",
       "    </tr>\n",
       "    <tr>\n",
       "      <th>7</th>\n",
       "      <td>Jimmie</td>\n",
       "      <td>9.00</td>\n",
       "      <td>42.0</td>\n",
       "      <td>False</td>\n",
       "    </tr>\n",
       "    <tr>\n",
       "      <th>8</th>\n",
       "      <td>Rhonda</td>\n",
       "      <td>8.50</td>\n",
       "      <td>26.0</td>\n",
       "      <td>False</td>\n",
       "    </tr>\n",
       "    <tr>\n",
       "      <th>9</th>\n",
       "      <td>Giovanni</td>\n",
       "      <td>14.50</td>\n",
       "      <td>74.0</td>\n",
       "      <td>True</td>\n",
       "    </tr>\n",
       "    <tr>\n",
       "      <th>10</th>\n",
       "      <td>Francesca</td>\n",
       "      <td>15.50</td>\n",
       "      <td>82.0</td>\n",
       "      <td>True</td>\n",
       "    </tr>\n",
       "    <tr>\n",
       "      <th>11</th>\n",
       "      <td>Rajab</td>\n",
       "      <td>13.75</td>\n",
       "      <td>62.0</td>\n",
       "      <td>True</td>\n",
       "    </tr>\n",
       "    <tr>\n",
       "      <th>12</th>\n",
       "      <td>Naiyana</td>\n",
       "      <td>9.00</td>\n",
       "      <td>37.0</td>\n",
       "      <td>False</td>\n",
       "    </tr>\n",
       "    <tr>\n",
       "      <th>13</th>\n",
       "      <td>Kian</td>\n",
       "      <td>8.00</td>\n",
       "      <td>15.0</td>\n",
       "      <td>False</td>\n",
       "    </tr>\n",
       "    <tr>\n",
       "      <th>14</th>\n",
       "      <td>Jenny</td>\n",
       "      <td>15.50</td>\n",
       "      <td>70.0</td>\n",
       "      <td>True</td>\n",
       "    </tr>\n",
       "    <tr>\n",
       "      <th>15</th>\n",
       "      <td>Jakeem</td>\n",
       "      <td>8.00</td>\n",
       "      <td>27.0</td>\n",
       "      <td>False</td>\n",
       "    </tr>\n",
       "    <tr>\n",
       "      <th>16</th>\n",
       "      <td>Helena</td>\n",
       "      <td>9.00</td>\n",
       "      <td>36.0</td>\n",
       "      <td>False</td>\n",
       "    </tr>\n",
       "    <tr>\n",
       "      <th>17</th>\n",
       "      <td>Ismat</td>\n",
       "      <td>6.00</td>\n",
       "      <td>35.0</td>\n",
       "      <td>False</td>\n",
       "    </tr>\n",
       "    <tr>\n",
       "      <th>18</th>\n",
       "      <td>Anila</td>\n",
       "      <td>10.00</td>\n",
       "      <td>48.0</td>\n",
       "      <td>False</td>\n",
       "    </tr>\n",
       "    <tr>\n",
       "      <th>19</th>\n",
       "      <td>Skye</td>\n",
       "      <td>12.00</td>\n",
       "      <td>52.0</td>\n",
       "      <td>False</td>\n",
       "    </tr>\n",
       "    <tr>\n",
       "      <th>20</th>\n",
       "      <td>Daniel</td>\n",
       "      <td>12.50</td>\n",
       "      <td>63.0</td>\n",
       "      <td>True</td>\n",
       "    </tr>\n",
       "    <tr>\n",
       "      <th>21</th>\n",
       "      <td>Aisha</td>\n",
       "      <td>12.00</td>\n",
       "      <td>64.0</td>\n",
       "      <td>True</td>\n",
       "    </tr>\n",
       "  </tbody>\n",
       "</table>\n",
       "</div>"
      ],
      "text/plain": [
       "         Name  StudyHours  Grade   Pass\n",
       "0         Dan       10.00   50.0  False\n",
       "1       Joann       11.50   50.0  False\n",
       "2       Pedro        9.00   47.0  False\n",
       "3       Rosie       16.00   97.0   True\n",
       "4       Ethan        9.25   49.0  False\n",
       "6    Frederic       11.50   53.0  False\n",
       "7      Jimmie        9.00   42.0  False\n",
       "8      Rhonda        8.50   26.0  False\n",
       "9    Giovanni       14.50   74.0   True\n",
       "10  Francesca       15.50   82.0   True\n",
       "11      Rajab       13.75   62.0   True\n",
       "12    Naiyana        9.00   37.0  False\n",
       "13       Kian        8.00   15.0  False\n",
       "14      Jenny       15.50   70.0   True\n",
       "15     Jakeem        8.00   27.0  False\n",
       "16     Helena        9.00   36.0  False\n",
       "17      Ismat        6.00   35.0  False\n",
       "18      Anila       10.00   48.0  False\n",
       "19       Skye       12.00   52.0  False\n",
       "20     Daniel       12.50   63.0   True\n",
       "21      Aisha       12.00   64.0   True"
      ]
     },
     "execution_count": 10,
     "metadata": {},
     "output_type": "execute_result"
    }
   ],
   "source": [
    "df_sample = df_students[df_students['StudyHours']>1]\n",
    "df_sample"
   ]
  },
  {
   "cell_type": "markdown",
   "id": "d59b1cd7",
   "metadata": {},
   "source": [
    "### Comparación de variables numéricas y categóricas\n",
    "Los datos incluyen dos variables numéricas ( **StudyHours** y **Grade** ) y dos variables categóricas ( **Name** y **Pass** ). Comencemos comparando la columna numérica **StudyHours** con la columna categórica **Aprobado** para ver si existe una relación aparente entre la cantidad de horas estudiadas y la calificación aprobatoria.\n",
    "\n",
    "Para hacer esta comparación, creemos diagramas de caja que muestren la distribución de las Horas de estudio para cada posible valor de Aprobado (verdadero y falso)."
   ]
  },
  {
   "cell_type": "code",
   "execution_count": 11,
   "id": "fb5c02c1",
   "metadata": {},
   "outputs": [
    {
     "data": {
      "text/plain": [
       "<AxesSubplot:title={'center':'StudyHours'}, xlabel='Pass'>"
      ]
     },
     "execution_count": 11,
     "metadata": {},
     "output_type": "execute_result"
    },
    {
     "data": {
      "image/png": "[encoded data removed]",
      "text/plain": [
       "<Figure size 576x360 with 1 Axes>"
      ]
     },
     "metadata": {
      "needs_background": "light"
     },
     "output_type": "display_data"
    }
   ],
   "source": [
    "df_sample.boxplot(column='StudyHours', by='Pass', figsize=(8,5))"
   ]
  },
  {
   "cell_type": "code",
   "execution_count": 18,
   "id": "e55b9949",
   "metadata": {},
   "outputs": [
    {
     "data": {
      "text/plain": [
       "<AxesSubplot:xlabel='Name'>"
      ]
     },
     "execution_count": 18,
     "metadata": {},
     "output_type": "execute_result"
    },
    {
     "data": {
      "image/png": "[encoded data removed]",
      "text/plain": [
       "<Figure size 864x360 with 1 Axes>"
      ]
     },
     "metadata": {
      "needs_background": "light"
     },
     "output_type": "display_data"
    }
   ],
   "source": [
    "# Crear una barra parcela de nombre vs grado y estudio de horas\n",
    "df_sample.plot(x='Name', y=['Grade','StudyHours'], kind='bar', figsize=(12,5))"
   ]
  },
  {
   "cell_type": "markdown",
   "id": "8604af60",
   "metadata": {},
   "source": [
    "El gráfico muestra barras tanto para el grado como para las horas de estudio de cada estudiante; pero no es fácil de comparar porque los valores están en diferentes escalas. Las calificaciones se miden en puntos de calificación y varían de 3 a 97; mientras que el tiempo de estudio se mide en horas y va de 1 a 16.\n",
    "\n",
    "Una técnica común cuando se trata de datos numéricos en diferentes escalas es normalizar los datos para que los valores conserven su distribución proporcional, pero se midan en la misma escala. Para lograr esto, usaremos una técnica llamada escalado MinMax que distribuye los valores proporcionalmente en una escala de 0 a 1. Podría escribir el código para aplicar esta transformación; pero la biblioteca Scikit-Learn proporciona un escalador para hacerlo por usted."
   ]
  },
  {
   "cell_type": "code",
   "execution_count": 19,
   "id": "d3e6d427",
   "metadata": {},
   "outputs": [
    {
     "data": {
      "text/plain": [
       "<AxesSubplot:xlabel='Name'>"
      ]
     },
     "execution_count": 19,
     "metadata": {},
     "output_type": "execute_result"
    },
    {
     "data": {
      "image/png": "[encoded data removed]",
      "text/plain": [
       "<Figure size 864x360 with 1 Axes>"
      ]
     },
     "metadata": {
      "needs_background": "light"
     },
     "output_type": "display_data"
    }
   ],
   "source": [
    "from sklearn.preprocessing import MinMaxScaler\n",
    "\n",
    "# Obtenemos el objeto escalador\n",
    "scaler = MinMaxScaler()\n",
    "\n",
    "# Creamos un nuevo marco de datos para los valores escalados\n",
    "df_normalized = df_sample[['Name', 'Grade', 'StudyHours']].copy()\n",
    "\n",
    "# Normalizar las columnas numéricas\n",
    "df_normalized[['Grade','StudyHours']] = scaler.fit_transform(df_normalized[['Grade','StudyHours']])\n",
    "\n",
    "# Graficar los valores normalizados\n",
    "df_normalized.plot(x='Name', y=['Grade','StudyHours'], kind='bar', figsize=(12,5))"
   ]
  },
  {
   "cell_type": "markdown",
   "id": "7f033ae5",
   "metadata": {},
   "source": [
    "Con los datos normalizados, es más fácil ver una relación aparente entre la calificación y el tiempo de estudio. No es una coincidencia exacta, pero definitivamente parece que los estudiantes con calificaciones más altas tienden a haber estudiado más.\n",
    "\n",
    "Entonces parece haber una correlación entre el tiempo de estudio y el grado; y, de hecho, hay una medida de correlación estadística que podemos usar para cuantificar la relación entre estas columnas."
   ]
  },
  {
   "cell_type": "code",
   "execution_count": 15,
   "id": "ef79f05f",
   "metadata": {},
   "outputs": [
    {
     "data": {
      "text/plain": [
       "0.9117666413789677"
      ]
     },
     "execution_count": 15,
     "metadata": {},
     "output_type": "execute_result"
    }
   ],
   "source": [
    "df_normalized.Grade.corr(df_normalized.StudyHours)"
   ]
  },
  {
   "cell_type": "markdown",
   "id": "8ca500b1",
   "metadata": {},
   "source": [
    "La estadística de correlación es un valor entre -1 y 1 que indica la fuerza de una relación. Valores por encima de 0 indican una correlación positiva (valores altos de una variable tienden a coincidir con valores altos de la otra), mientras que valores por debajo de 0 indican una correlación negativa (valores altos de una variable tienden a coincidir con valores bajos de la otra). En este caso, el valor de correlación es cercano a 1; mostrando una fuerte correlación positiva entre el tiempo de estudio y el grado.\n",
    "\n",
    ">Nota : Los científicos de datos suelen citar la máxima \"la correlación no es causalidad \". En otras palabras, por muy tentador que sea, no debe interpretar la correlación estadística como una explicación de por qué uno de los valores es alto. En el caso de los datos de los estudiantes, las estadísticas demuestran que los estudiantes con notas altas tienden a tener también una gran cantidad de tiempo de estudio; pero esto no es lo mismo que demostrar que sacaron buenas notas porque estudiaron mucho. La estadística también podría usarse como evidencia para respaldar la conclusión sin sentido de que los estudiantes estudiaron mucho porque sus calificaciones iban a ser altas.\n",
    "\n",
    "Otra forma de visualizar la correlación aparente entre dos columnas numéricas es usar un diagrama de *dispersión* .\n",
    "\n"
   ]
  },
  {
   "cell_type": "code",
   "execution_count": 21,
   "id": "31c4b9d8",
   "metadata": {},
   "outputs": [
    {
     "data": {
      "text/plain": [
       "<AxesSubplot:title={'center':'Study Time vs Grade'}, xlabel='StudyHours', ylabel='Grade'>"
      ]
     },
     "execution_count": 21,
     "metadata": {},
     "output_type": "execute_result"
    },
    {
     "data": {
      "image/png": "[encoded data removed]",
      "text/plain": [
       "<Figure size 432x288 with 1 Axes>"
      ]
     },
     "metadata": {
      "needs_background": "light"
     },
     "output_type": "display_data"
    }
   ],
   "source": [
    "# Crear un gráfico de dispersión\n",
    "df_sample.plot.scatter(title='Study Time vs Grade', x='StudyHours', y='Grade')"
   ]
  },
  {
   "cell_type": "markdown",
   "id": "a7607d08",
   "metadata": {},
   "source": [
    "Una vez más, parece que hay un patrón perceptible en el que los estudiantes que estudiaron la mayor caitndad de horas son también los estudiantes que obtivieron las calificaciones más altas.\n",
    "\n",
    "Podemos ver esto más claramente agregando una línea de *regresión* (o una *línea de mejor ajuste*) a la gráfica que muestra la tendencia general en los datos. Para hacer esto, usaremos una técnica estadística llamada *regresión de mínimos cuadrados*.\n",
    "\n",
    "> **Advertencia: ¡Matemáticas por delante!**\n",
    ">\n",
    "> Recuerda cunado estabas aprendiendo a resolver exuacinoes lineales en la escuela y recuerda que la fomra *pendiente-intersección* de una ecuación lineal se ve así :\n",
    "> $ y = mx + b $\n",
    ">\n",
    "> En esta ecuación, y y x son las variables de coordenadas, m es la pendiente de la línea y b es la intersección y (donde la  línea pasa por el eje Y).En el caso de nuestro diagrama de dispersión para los datos de nuestros estudiantes, ya tenemos nuestros valores para x ( Horario de estudio ) e y ( Calificación ), por lo que solo necesitamos calcular la intersección y la pendiente de la línea recta más cercana a esos puntos. Luego, podemos formar una ecuación lineal que calcule un nuevo valor de y en esa línea para cada uno de nuestros valores de x ( Horarios de estudio ); para evitar confusiones, llamaremos a este nuevo valor de y f(x) (porque es la salida de un valor lineal ecuación función basada en x ). La diferencia entre el y original ( Grado) y el valor de f(x) es el error entre nuestra línea de regresión y la calificación real obtenida por el estudiante. Nuestro objetivo es calcular la pendiente y la intersección de una línea con el error general más bajo.Específicamente, definimos el error general tomando el error de cada punto, elevándolo al cuadrado y sumando todos los errores al cuadrado. La línea de mejor ajuste es la línea que nos da el valor más bajo para la suma de los errores cuadráticos, de ahí el nombre de regresión de mínimos cuadrados.\n",
    "\n",
    "Afortudadamente, no necesita codificar el cálculo de regresión usted mismo: el paquete **SciPy inluye una clase de estadísticas** que proporciona un método **liregress** para hacer el trabajo duro por usted. Esto devuelve (entre otras cosas) los coeficientes que necesita para la ecuación de la pendiente - pendiente (*m*) **e** intercepción (*b*) en función de un par dado de muestras variables que desea comparar.\n"
   ]
  },
  {
   "cell_type": "code",
   "execution_count": 22,
   "id": "6ff87f5e",
   "metadata": {},
   "outputs": [
    {
     "name": "stdout",
     "output_type": "stream",
     "text": [
      "slope: 6.3134\n",
      "y-intercept: -17.9164\n",
      "so...\n",
      " f(x) = 6.3134x + -17.9164\n"
     ]
    },
    {
     "data": {
      "image/png": "[encoded data removed]",
      "text/plain": [
       "<Figure size 432x288 with 1 Axes>"
      ]
     },
     "metadata": {
      "needs_background": "light"
     },
     "output_type": "display_data"
    }
   ],
   "source": [
    "from scipy import stats\n",
    "\n",
    "#\n",
    "df_regression = df_sample[['Grade', 'StudyHours']].copy()\n",
    "\n",
    "# Obtener la pendiente de regresión y el intercepto\n",
    "m, b, r, p, se = stats.linregress(df_regression['StudyHours'], df_regression['Grade'])\n",
    "print('slope: {:.4f}\\ny-intercept: {:.4f}'.format(m,b))\n",
    "print('so...\\n f(x) = {:.4f}x + {:.4f}'.format(m,b))\n",
    "\n",
    "# Use la función (mx +b) para calcular f(x) para cada valor de x (StudyHours)\n",
    "df_regression['fx'] = (m * df_regression['StudyHours']) + b\n",
    "\n",
    "# Use la función (mx +b) para calcular f(x) y el valor real de y (Grado)\n",
    "df_regression['error'] = df_regression['fx'] - df_regression['Grade']\n",
    "\n",
    "# Crear un diagrama de dispersión de Grado vs Salario\n",
    "df_regression.plot.scatter(x='StudyHours', y='Grade')\n",
    "\n",
    "# Graficar la línea de regresión \n",
    "plt.plot(df_regression['StudyHours'],df_regression['fx'], color='cyan')\n",
    "\n",
    "# Mostrar la trama\n",
    "plt.show()"
   ]
  },
  {
   "cell_type": "markdown",
   "id": "67975a6d",
   "metadata": {},
   "source": [
    "Tenga en cuenta que esta vez, el código trazó dos cosas distintas: el gráfico de dispersión de las horas de estudio de muestras y las calificaciones se traza como antes, y luego se traza una línea de mejor ajuste basada en los coeficientes de regresión de mínimos cuadrados. \n",
    "\n",
    "Los coeficientes de pendiente e intersección calculados para la línea de regresión se meustran arriba del gráfico.\n",
    "\n",
    "La línea se basa en los valores *f(x)* calculados para cada valor de **StudyHours**. Ejecute la siguiente celda para ver una tabla que inclulye los siguientes valores:\n",
    "\n",
    "    - Las horas de estudio de cada estudiante.\n",
    "    - La **Nota** obtenida por cada estudiante.\n",
    "    - El valor de ***f(x)*** calculado de **f(x)** y el valor real de **Grado**.\n",
    "    \n",
    "Algunos de los errores, particularmente en os extremos, y bastante grandes (hasta más de 17,5 puntos de calificación); por lo general, la línea está bastatnte cerca de las calificaciones reales.\n"
   ]
  },
  {
   "cell_type": "code",
   "execution_count": 23,
   "id": "e9c68c3c",
   "metadata": {},
   "outputs": [
    {
     "data": {
      "text/html": [
       "<div>\n",
       "<style scoped>\n",
       "    .dataframe tbody tr th:only-of-type {\n",
       "        vertical-align: middle;\n",
       "    }\n",
       "\n",
       "    .dataframe tbody tr th {\n",
       "        vertical-align: top;\n",
       "    }\n",
       "\n",
       "    .dataframe thead th {\n",
       "        text-align: right;\n",
       "    }\n",
       "</style>\n",
       "<table border=\"1\" class=\"dataframe\">\n",
       "  <thead>\n",
       "    <tr style=\"text-align: right;\">\n",
       "      <th></th>\n",
       "      <th>StudyHours</th>\n",
       "      <th>Grade</th>\n",
       "      <th>fx</th>\n",
       "      <th>error</th>\n",
       "    </tr>\n",
       "  </thead>\n",
       "  <tbody>\n",
       "    <tr>\n",
       "      <th>0</th>\n",
       "      <td>10.00</td>\n",
       "      <td>50.0</td>\n",
       "      <td>45.217846</td>\n",
       "      <td>-4.782154</td>\n",
       "    </tr>\n",
       "    <tr>\n",
       "      <th>1</th>\n",
       "      <td>11.50</td>\n",
       "      <td>50.0</td>\n",
       "      <td>54.687985</td>\n",
       "      <td>4.687985</td>\n",
       "    </tr>\n",
       "    <tr>\n",
       "      <th>2</th>\n",
       "      <td>9.00</td>\n",
       "      <td>47.0</td>\n",
       "      <td>38.904421</td>\n",
       "      <td>-8.095579</td>\n",
       "    </tr>\n",
       "    <tr>\n",
       "      <th>3</th>\n",
       "      <td>16.00</td>\n",
       "      <td>97.0</td>\n",
       "      <td>83.098400</td>\n",
       "      <td>-13.901600</td>\n",
       "    </tr>\n",
       "    <tr>\n",
       "      <th>4</th>\n",
       "      <td>9.25</td>\n",
       "      <td>49.0</td>\n",
       "      <td>40.482777</td>\n",
       "      <td>-8.517223</td>\n",
       "    </tr>\n",
       "    <tr>\n",
       "      <th>6</th>\n",
       "      <td>11.50</td>\n",
       "      <td>53.0</td>\n",
       "      <td>54.687985</td>\n",
       "      <td>1.687985</td>\n",
       "    </tr>\n",
       "    <tr>\n",
       "      <th>7</th>\n",
       "      <td>9.00</td>\n",
       "      <td>42.0</td>\n",
       "      <td>38.904421</td>\n",
       "      <td>-3.095579</td>\n",
       "    </tr>\n",
       "    <tr>\n",
       "      <th>8</th>\n",
       "      <td>8.50</td>\n",
       "      <td>26.0</td>\n",
       "      <td>35.747708</td>\n",
       "      <td>9.747708</td>\n",
       "    </tr>\n",
       "    <tr>\n",
       "      <th>9</th>\n",
       "      <td>14.50</td>\n",
       "      <td>74.0</td>\n",
       "      <td>73.628262</td>\n",
       "      <td>-0.371738</td>\n",
       "    </tr>\n",
       "    <tr>\n",
       "      <th>10</th>\n",
       "      <td>15.50</td>\n",
       "      <td>82.0</td>\n",
       "      <td>79.941687</td>\n",
       "      <td>-2.058313</td>\n",
       "    </tr>\n",
       "    <tr>\n",
       "      <th>11</th>\n",
       "      <td>13.75</td>\n",
       "      <td>62.0</td>\n",
       "      <td>68.893193</td>\n",
       "      <td>6.893193</td>\n",
       "    </tr>\n",
       "    <tr>\n",
       "      <th>12</th>\n",
       "      <td>9.00</td>\n",
       "      <td>37.0</td>\n",
       "      <td>38.904421</td>\n",
       "      <td>1.904421</td>\n",
       "    </tr>\n",
       "    <tr>\n",
       "      <th>13</th>\n",
       "      <td>8.00</td>\n",
       "      <td>15.0</td>\n",
       "      <td>32.590995</td>\n",
       "      <td>17.590995</td>\n",
       "    </tr>\n",
       "    <tr>\n",
       "      <th>14</th>\n",
       "      <td>15.50</td>\n",
       "      <td>70.0</td>\n",
       "      <td>79.941687</td>\n",
       "      <td>9.941687</td>\n",
       "    </tr>\n",
       "    <tr>\n",
       "      <th>15</th>\n",
       "      <td>8.00</td>\n",
       "      <td>27.0</td>\n",
       "      <td>32.590995</td>\n",
       "      <td>5.590995</td>\n",
       "    </tr>\n",
       "    <tr>\n",
       "      <th>16</th>\n",
       "      <td>9.00</td>\n",
       "      <td>36.0</td>\n",
       "      <td>38.904421</td>\n",
       "      <td>2.904421</td>\n",
       "    </tr>\n",
       "    <tr>\n",
       "      <th>17</th>\n",
       "      <td>6.00</td>\n",
       "      <td>35.0</td>\n",
       "      <td>19.964144</td>\n",
       "      <td>-15.035856</td>\n",
       "    </tr>\n",
       "    <tr>\n",
       "      <th>18</th>\n",
       "      <td>10.00</td>\n",
       "      <td>48.0</td>\n",
       "      <td>45.217846</td>\n",
       "      <td>-2.782154</td>\n",
       "    </tr>\n",
       "    <tr>\n",
       "      <th>19</th>\n",
       "      <td>12.00</td>\n",
       "      <td>52.0</td>\n",
       "      <td>57.844698</td>\n",
       "      <td>5.844698</td>\n",
       "    </tr>\n",
       "    <tr>\n",
       "      <th>20</th>\n",
       "      <td>12.50</td>\n",
       "      <td>63.0</td>\n",
       "      <td>61.001410</td>\n",
       "      <td>-1.998590</td>\n",
       "    </tr>\n",
       "    <tr>\n",
       "      <th>21</th>\n",
       "      <td>12.00</td>\n",
       "      <td>64.0</td>\n",
       "      <td>57.844698</td>\n",
       "      <td>-6.155302</td>\n",
       "    </tr>\n",
       "  </tbody>\n",
       "</table>\n",
       "</div>"
      ],
      "text/plain": [
       "    StudyHours  Grade         fx      error\n",
       "0        10.00   50.0  45.217846  -4.782154\n",
       "1        11.50   50.0  54.687985   4.687985\n",
       "2         9.00   47.0  38.904421  -8.095579\n",
       "3        16.00   97.0  83.098400 -13.901600\n",
       "4         9.25   49.0  40.482777  -8.517223\n",
       "6        11.50   53.0  54.687985   1.687985\n",
       "7         9.00   42.0  38.904421  -3.095579\n",
       "8         8.50   26.0  35.747708   9.747708\n",
       "9        14.50   74.0  73.628262  -0.371738\n",
       "10       15.50   82.0  79.941687  -2.058313\n",
       "11       13.75   62.0  68.893193   6.893193\n",
       "12        9.00   37.0  38.904421   1.904421\n",
       "13        8.00   15.0  32.590995  17.590995\n",
       "14       15.50   70.0  79.941687   9.941687\n",
       "15        8.00   27.0  32.590995   5.590995\n",
       "16        9.00   36.0  38.904421   2.904421\n",
       "17        6.00   35.0  19.964144 -15.035856\n",
       "18       10.00   48.0  45.217846  -2.782154\n",
       "19       12.00   52.0  57.844698   5.844698\n",
       "20       12.50   63.0  61.001410  -1.998590\n",
       "21       12.00   64.0  57.844698  -6.155302"
      ]
     },
     "execution_count": 23,
     "metadata": {},
     "output_type": "execute_result"
    }
   ],
   "source": [
    "# Mostrar los valores x, y originales, el valor f(x) y el error\n",
    "df_regression[['StudyHours', 'Grade', 'fx', 'error']]"
   ]
  },
  {
   "cell_type": "markdown",
   "id": "019536c3",
   "metadata": {},
   "source": [
    "## Uso de los coeficientes de regresión para la predicción\n",
    "\n",
    "Ahora que tiene los coeficientes de regresión para la relación entre el tiempo de estudio y la calificación, puede usarlos en una función para estimas la calificación esperada para una determinada cantidad de estudio."
   ]
  },
  {
   "cell_type": "code",
   "execution_count": 25,
   "id": "79872912",
   "metadata": {},
   "outputs": [
    {
     "name": "stdout",
     "output_type": "stream",
     "text": [
      "Studying for 14 hours per week may result in a grade of 70\n"
     ]
    }
   ],
   "source": [
    "# Definir una función basada en neustros coeficientes de regresión\n",
    "def f(x):\n",
    "    m = 6.3134\n",
    "    b = -17.9164\n",
    "    return m*x + b\n",
    "\n",
    "study_time = 14\n",
    "\n",
    "# Obtenga f(x) para el tiempo de estudio\n",
    "prediction = f(study_time)\n",
    "\n",
    "# La calificación no puede ser inferior a 0 ni superior a 100\n",
    "expected_grade = max(0,min(100,prediction))\n",
    "\n",
    "# Imprime la calificación estimada\n",
    "print ('Estudiar durante {} horas por semana puede resultar en una calificación de  {:.0f}'.format(study_time, expected_grade))"
   ]
  },
  {
   "cell_type": "markdown",
   "id": "feadd9f9",
   "metadata": {},
   "source": [
    "Entonces, al aplicar estadísticas a datos de muestra, ha determinado una relación entre el tiempo de estudio y la calificación; y encapsuló esa relación en una función general que se puede usar para predecir una calificación para una cantidad determinada de tiempo de estudio.\n",
    "\n",
    "Esta técnica es, de hecho, la premisa básica del aprendizaje automático. Puede tomar un conjunto de datos de muestra que incluye una o más características (en este caso, la cantidad de horas estudiadas) y un valor de etiqueta conocido (en este caso, la calificación obtenida) y usar los datos de muestra para derivar una función que calcula valores de etiqueta predichos para cualquier conjunto dado de características.\n",
    "\n",
    "## Resumen\n",
    "\n",
    "Aquí hemos mirado:\n",
    "\n",
    "Qué es un valor atípico y cómo eliminarlo\n",
    "Cómo se pueden sesgar los datos\n",
    "Cómo observar la dispersión de datos\n",
    "Maneras básicas de comparar variables, como calificaciones y tiempo de estudio\n",
    "Otras lecturas\n",
    "Para obtener más información sobre los paquetes de Python que exploró en este cuaderno, consulte la siguiente documentación:\n",
    "\n"
   ]
  }
 ],
 "metadata": {
  "kernelspec": {
   "display_name": "Python 3 (ipykernel)",
   "language": "python",
   "name": "python3"
  },
  "language_info": {
   "codemirror_mode": {
    "name": "ipython",
    "version": 3
   },
   "file_extension": ".py",
   "mimetype": "text/x-python",
   "name": "python",
   "nbconvert_exporter": "python",
   "pygments_lexer": "ipython3",
   "version": "3.9.12"
  }
 },
 "nbformat": 4,
 "nbformat_minor": 5
}
